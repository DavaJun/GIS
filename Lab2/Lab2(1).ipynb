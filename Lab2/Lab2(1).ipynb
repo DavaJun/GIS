{
  "nbformat": 4,
  "nbformat_minor": 0,
  "metadata": {
    "colab": {
      "provenance": [],
      "collapsed_sections": []
    },
    "kernelspec": {
      "name": "python3",
      "display_name": "Python 3"
    },
    "language_info": {
      "name": "python"
    }
  },
  "cells": [
    {
      "cell_type": "code",
      "execution_count": 1,
      "metadata": {
        "id": "FU20FwF8sCgi",
        "colab": {
          "base_uri": "https://localhost:8080/"
        },
        "outputId": "33766391-6136-497c-ebe7-f095bed05075"
      },
      "outputs": [
        {
          "output_type": "stream",
          "name": "stdout",
          "text": [
            "<class 'pandas.core.frame.DataFrame'>\n",
            "RangeIndex: 1000 entries, 0 to 999\n",
            "Data columns (total 9 columns):\n",
            " #   Column     Non-Null Count  Dtype  \n",
            "---  ------     --------------  -----  \n",
            " 0   open_SAR   1000 non-null   float64\n",
            " 1   open_USD   1000 non-null   float64\n",
            " 2   high_SAR   1000 non-null   float64\n",
            " 3   high_USD   1000 non-null   float64\n",
            " 4   low_SAR    1000 non-null   float64\n",
            " 5   low_USD    1000 non-null   float64\n",
            " 6   close_SAR  1000 non-null   float64\n",
            " 7   close_USD  1000 non-null   float64\n",
            " 8   volume     1000 non-null   int64  \n",
            "dtypes: float64(8), int64(1)\n",
            "memory usage: 70.4 KB\n"
          ]
        }
      ],
      "source": [
        "from sklearn.datasets import load_wine\n",
        "import pandas as pd\n",
        "\n",
        "X = pd.read_csv('dc.csv').drop('date', axis=1)\n",
        "X.columns = X.columns.str.replace(' ', '_')\n",
        "X.info()"
      ]
    },
    {
      "cell_type": "code",
      "source": [
        "from sklearn.preprocessing import StandardScaler\n",
        "\n",
        "scaler = StandardScaler()\n",
        "X_stand = scaler.fit_transform(X)\n",
        "X_stand[0]"
      ],
      "metadata": {
        "colab": {
          "base_uri": "https://localhost:8080/"
        },
        "id": "XXEX1AoXtc2a",
        "outputId": "de2b1533-23d6-4d52-f383-c0311de218cc"
      },
      "execution_count": 2,
      "outputs": [
        {
          "output_type": "execute_result",
          "data": {
            "text/plain": [
              "array([ 4.31050472,  4.31050472,  4.18111887,  4.18111887,  4.34492865,\n",
              "        4.34492865,  4.26218889,  4.26218889, -0.28399558])"
            ]
          },
          "metadata": {},
          "execution_count": 2
        }
      ]
    },
    {
      "cell_type": "code",
      "source": [
        "from sklearn.decomposition import PCA\n",
        "from matplotlib import pyplot as plt\n",
        "\n",
        "pca = PCA(n_components = 2)\n",
        "X_trans = pca.fit_transform(X_stand)\n",
        "plt.scatter(X_trans[:,0], X_trans[:,1])\n",
        "plt.show()"
      ],
      "metadata": {
        "colab": {
          "base_uri": "https://localhost:8080/",
          "height": 265
        },
        "id": "-9sP9WlQtfak",
        "outputId": "3dd2cde4-0839-4e18-96d4-e0a84008d9a7"
      },
      "execution_count": 3,
      "outputs": [
        {
          "output_type": "display_data",
          "data": {
            "text/plain": [
              "<Figure size 432x288 with 1 Axes>"
            ],
            "image/png": "[encoded data removed]"
          },
          "metadata": {
            "needs_background": "light"
          }
        }
      ]
    },
    {
      "cell_type": "code",
      "source": [
        "import numpy as np\n",
        "from sklearn.tree import DecisionTreeClassifier\n",
        "from sklearn.metrics import silhouette_score\n",
        "\n",
        "n = len(X)\n",
        "labels = range(0, n)\n",
        "scores = []\n",
        "for i in np.arange(0.05, 1, 0.05):\n",
        "  model = DecisionTreeClassifier(criterion='entropy', min_impurity_decrease=i)\n",
        "  model.fit(X, labels)\n",
        "  labels = model.apply(X)\n",
        "  sil = silhouette_score(X_stand, labels)\n",
        "  scores.append({'param': round(i,2), 'score': round(sil, 4)})\n",
        "\n",
        "scores[:5]\n"
      ],
      "metadata": {
        "colab": {
          "base_uri": "https://localhost:8080/"
        },
        "id": "gUFUrKAMthNn",
        "outputId": "7b748d99-ed56-4481-efac-775544178676"
      },
      "execution_count": 4,
      "outputs": [
        {
          "output_type": "execute_result",
          "data": {
            "text/plain": [
              "[{'param': 0.05, 'score': -0.0524},\n",
              " {'param': 0.1, 'score': -0.0041},\n",
              " {'param': 0.15, 'score': 0.0682},\n",
              " {'param': 0.2, 'score': 0.0682},\n",
              " {'param': 0.25, 'score': 0.0682}]"
            ]
          },
          "metadata": {},
          "execution_count": 4
        }
      ]
    },
    {
      "cell_type": "code",
      "source": [
        "from matplotlib import pyplot as plt\n",
        "\n",
        "param_list = [x['param'] for x in scores]\n",
        "score_list = [x['score'] for x in scores]\n",
        "\n",
        "fig = plt.figure()\n",
        "ax = fig.add_subplot()\n",
        "ax.set_ylabel('Silhouette')\n",
        "ax.set_xlabel('Minimum inpurity gain')\n",
        "plt.plot(param_list, score_list, label = 'score')\n",
        "ax.legend()\n",
        "plt.show()"
      ],
      "metadata": {
        "colab": {
          "base_uri": "https://localhost:8080/",
          "height": 279
        },
        "id": "ukwnUSettjK9",
        "outputId": "6856ea99-973a-4813-9cc1-5058793b961e"
      },
      "execution_count": 5,
      "outputs": [
        {
          "output_type": "display_data",
          "data": {
            "text/plain": [
              "<Figure size 432x288 with 1 Axes>"
            ],
            "image/png": "[encoded data removed]"
          },
          "metadata": {
            "needs_background": "light"
          }
        }
      ]
    },
    {
      "cell_type": "code",
      "source": [
        "scores[0]['diff'] = 0\n",
        "for i, score in enumerate(scores):\n",
        "  if i == 0:\n",
        "    continue\n",
        "  score['diff'] = score['score'] - scores[i-1]['score']\n",
        "scores[:5]"
      ],
      "metadata": {
        "colab": {
          "base_uri": "https://localhost:8080/"
        },
        "id": "GzOy0qHbtk_V",
        "outputId": "335c5f44-d9e1-4d8e-f90b-db8a02de9fb4"
      },
      "execution_count": 6,
      "outputs": [
        {
          "output_type": "execute_result",
          "data": {
            "text/plain": [
              "[{'param': 0.05, 'score': -0.0524, 'diff': 0},\n",
              " {'param': 0.1, 'score': -0.0041, 'diff': 0.0483},\n",
              " {'param': 0.15, 'score': 0.0682, 'diff': 0.0723},\n",
              " {'param': 0.2, 'score': 0.0682, 'diff': 0.0},\n",
              " {'param': 0.25, 'score': 0.0682, 'diff': 0.0}]"
            ]
          },
          "metadata": {},
          "execution_count": 6
        }
      ]
    },
    {
      "cell_type": "code",
      "source": [
        "from matplotlib import pyplot as plt\n",
        "\n",
        "param_list = [x['param'] for x in scores]\n",
        "score_list = [x['score'] for x in scores]\n",
        "diff_list = [x['diff'] for x in scores]\n",
        "\n",
        "fig = plt.figure()\n",
        "ax = fig.add_subplot()\n",
        "ax.set_ylabel('Silhouette')\n",
        "ax.set_xlabel('Minimum inpurity gain')\n",
        "plt.plot(param_list, score_list, label = 'score')\n",
        "plt.plot(param_list, diff_list, label = 'gain')\n",
        "ax.legend()\n",
        "plt.show()"
      ],
      "metadata": {
        "colab": {
          "base_uri": "https://localhost:8080/",
          "height": 279
        },
        "id": "cHass6kdtnAe",
        "outputId": "7cf3c898-4c46-40b1-8466-78edc6845207"
      },
      "execution_count": 7,
      "outputs": [
        {
          "output_type": "display_data",
          "data": {
            "text/plain": [
              "<Figure size 432x288 with 1 Axes>"
            ],
            "image/png": "[encoded data removed]"
          },
          "metadata": {
            "needs_background": "light"
          }
        }
      ]
    },
    {
      "cell_type": "code",
      "source": [
        "scores_sorted = sorted(scores, key = lambda x: x['diff'], reverse = True)\n",
        "threshold = scores_sorted[0]['param']\n",
        "\n",
        "labels = range(0, n)\n",
        "model = DecisionTreeClassifier(criterion = 'entropy', min_impurity_decrease=threshold)\n",
        "\n",
        "model.fit(X, labels)"
      ],
      "metadata": {
        "colab": {
          "base_uri": "https://localhost:8080/"
        },
        "id": "jAv5ukTstowd",
        "outputId": "30ea5128-5c88-46f7-9877-54e888f55aed"
      },
      "execution_count": 8,
      "outputs": [
        {
          "output_type": "execute_result",
          "data": {
            "text/plain": [
              "DecisionTreeClassifier(criterion='entropy', min_impurity_decrease=0.55)"
            ]
          },
          "metadata": {},
          "execution_count": 8
        }
      ]
    },
    {
      "cell_type": "code",
      "source": [
        "from sklearn import tree\n",
        "import matplotlib\n",
        "\n",
        "fig = plt.figure(figsize = (25, 10))\n",
        "tree.plot_tree(model, feature_names = X.columns, impurity = False, proportion = True, rounded = True)\n",
        "plt.show()"
      ],
      "metadata": {
        "colab": {
          "base_uri": "https://localhost:8080/",
          "height": 266
        },
        "id": "pmI1i3Z9t8Xz",
        "outputId": "c94df5a3-1839-429e-95d6-19db46f29339"
      },
      "execution_count": 9,
      "outputs": [
        {
          "output_type": "display_data",
          "data": {
            "text/plain": [
              "<Figure size 1800x720 with 1 Axes>"
            ],
            "image/png": "[encoded data removed]"
          },
          "metadata": {
            "needs_background": "light"
          }
        }
      ]
    },
    {
      "cell_type": "code",
      "source": [
        "n_nodes = model.tree_.node_count\n",
        "children_left = model.tree_.children_left\n",
        "children_right = model.tree_.children_right\n",
        "features = model.tree_.feature\n",
        "thresholds = model.tree_.threshold\n",
        "\n",
        "def make_node(i):\n",
        "  node = {}\n",
        "  node['parentID'] = i\n",
        "  node['feature'] = X.columns[features[i]]\n",
        "  node['threshold'] = round(thresholds[i], 2)\n",
        "  return node\n",
        "\n",
        "nodes = []\n",
        "for i in range(0, n_nodes):\n",
        "  if children_left[i] != -1:\n",
        "    node = make_node(i)\n",
        "    node['ID'] = children_left[i]\n",
        "    node['comparsion'] = '<='\n",
        "    nodes.append(node)\n",
        "  if children_right[i] != -1:\n",
        "    node = make_node(i)\n",
        "    node['ID'] = children_right[i]\n",
        "    node['comparsion'] = '>'\n",
        "    nodes.append(node)\n",
        "nodes[:5]"
      ],
      "metadata": {
        "colab": {
          "base_uri": "https://localhost:8080/"
        },
        "id": "nOklZk2ut-Ic",
        "outputId": "c9095800-415e-44bc-e75a-ff87cd07c342"
      },
      "execution_count": 10,
      "outputs": [
        {
          "output_type": "execute_result",
          "data": {
            "text/plain": [
              "[{'parentID': 0,\n",
              "  'feature': 'close_SAR',\n",
              "  'threshold': 30713.26,\n",
              "  'ID': 1,\n",
              "  'comparsion': '<='},\n",
              " {'parentID': 0,\n",
              "  'feature': 'close_SAR',\n",
              "  'threshold': 30713.26,\n",
              "  'ID': 2,\n",
              "  'comparsion': '>'}]"
            ]
          },
          "metadata": {},
          "execution_count": 10
        }
      ]
    },
    {
      "cell_type": "code",
      "source": [
        "!pip install owlready2\n",
        "from owlready2 import *\n",
        "import types\n",
        "\n",
        "onto = get_ontology('onto.owl')\n",
        "with onto:\n",
        "  for feature in X.columns:\n",
        "    onto_feature = types.new_class(feature, (DataProperty,))"
      ],
      "metadata": {
        "colab": {
          "base_uri": "https://localhost:8080/"
        },
        "id": "wO-Gu39guAh9",
        "outputId": "736017c3-1886-440a-8106-f03b2e392ba3"
      },
      "execution_count": 11,
      "outputs": [
        {
          "output_type": "stream",
          "name": "stdout",
          "text": [
            "Looking in indexes: https://pypi.org/simple, https://us-python.pkg.dev/colab-wheels/public/simple/\n",
            "Collecting owlready2\n",
            "  Downloading Owlready2-0.38.tar.gz (25.4 MB)\n",
            "\u001b[K     |████████████████████████████████| 25.4 MB 2.8 MB/s \n",
            "\u001b[?25hBuilding wheels for collected packages: owlready2\n",
            "  Building wheel for owlready2 (setup.py) ... \u001b[?25l\u001b[?25hdone\n",
            "  Created wheel for owlready2: filename=Owlready2-0.38-cp37-cp37m-linux_x86_64.whl size=22127132 sha256=631ee4cc23191c95fe2bf0c2da9c5528d0579324bc5a3f2793d73a55d3334aac\n",
            "  Stored in directory: /root/.cache/pip/wheels/ee/48/58/3ea20d69efcb97a26048fbfcce9332412077df80d4ae52365b\n",
            "Successfully built owlready2\n",
            "Installing collected packages: owlready2\n",
            "Successfully installed owlready2-0.38\n"
          ]
        }
      ]
    },
    {
      "cell_type": "code",
      "source": [
        "with onto:\n",
        "  for node in nodes:\n",
        "    parent = node['parentID']\n",
        "    if parent == 0:\n",
        "      onto_parent = Thing\n",
        "    else:\n",
        "      onto_parent = onto[f'Class_{parent}']\n",
        "    onto_class = types.new_class(f'Class_{node[\"ID\"]}', (onto_parent,))\n",
        "\n",
        "    onto_feature = onto[node['feature']]\n",
        "    threshold = node['threshold']\n",
        "    if node['comparsion'] == '<=':\n",
        "      onto_class.equivalent_to.append(onto_feature.some(ConstrainedDatatype(float, max_inclusive = threshold)))\n",
        "    else:\n",
        "      onto_class.equivalent_to.append(onto_feature.some(ConstrainedDatatype(float, min_exclusive = threshold)))\n",
        "  \n",
        "onto.save('onto.owl', format = 'ntriples')"
      ],
      "metadata": {
        "id": "H7hARwlMuCiU"
      },
      "execution_count": 12,
      "outputs": []
    },
    {
      "cell_type": "code",
      "source": [
        "i = 0\n",
        "\n",
        "with onto:\n",
        "  row = X.iloc[i]\n",
        "  inst = Thing(f'inst{i}')\n",
        "  for feature in X.columns:\n",
        "    onto_feature = onto[feature]\n",
        "    onto_feature[inst].append(round(float(row[feature]), 2))"
      ],
      "metadata": {
        "id": "QeTyGm-juEid"
      },
      "execution_count": 13,
      "outputs": []
    },
    {
      "cell_type": "code",
      "source": [
        "with onto:\n",
        "  sync_reasoner_pellet()\n",
        "  print(inst.is_a)\n",
        "onto.save('onto_classified.owl', format = 'ntriples')"
      ],
      "metadata": {
        "colab": {
          "base_uri": "https://localhost:8080/"
        },
        "id": "MSbH7_0ZuGCb",
        "outputId": "afe29f11-c530-412d-bd00-470e5f249f9d"
      },
      "execution_count": 14,
      "outputs": [
        {
          "output_type": "stream",
          "name": "stderr",
          "text": [
            "* Owlready2 * Running Pellet...\n",
            "    java -Xmx2000M -cp /usr/local/lib/python3.7/dist-packages/owlready2/pellet/jgrapht-jdk1.5.jar:/usr/local/lib/python3.7/dist-packages/owlready2/pellet/jena-iri-0.9.5.jar:/usr/local/lib/python3.7/dist-packages/owlready2/pellet/aterm-java-1.6.jar:/usr/local/lib/python3.7/dist-packages/owlready2/pellet/httpclient-4.2.3.jar:/usr/local/lib/python3.7/dist-packages/owlready2/pellet/antlr-runtime-3.2.jar:/usr/local/lib/python3.7/dist-packages/owlready2/pellet/pellet-2.3.1.jar:/usr/local/lib/python3.7/dist-packages/owlready2/pellet/owlapi-distribution-3.4.3-bin.jar:/usr/local/lib/python3.7/dist-packages/owlready2/pellet/jena-arq-2.10.0.jar:/usr/local/lib/python3.7/dist-packages/owlready2/pellet/slf4j-api-1.6.4.jar:/usr/local/lib/python3.7/dist-packages/owlready2/pellet/jcl-over-slf4j-1.6.4.jar:/usr/local/lib/python3.7/dist-packages/owlready2/pellet/jena-tdb-0.10.0.jar:/usr/local/lib/python3.7/dist-packages/owlready2/pellet/xercesImpl-2.10.0.jar:/usr/local/lib/python3.7/dist-packages/owlready2/pellet/antlr-3.2.jar:/usr/local/lib/python3.7/dist-packages/owlready2/pellet/slf4j-log4j12-1.6.4.jar:/usr/local/lib/python3.7/dist-packages/owlready2/pellet/log4j-1.2.16.jar:/usr/local/lib/python3.7/dist-packages/owlready2/pellet/jena-core-2.10.0.jar:/usr/local/lib/python3.7/dist-packages/owlready2/pellet/httpcore-4.2.2.jar:/usr/local/lib/python3.7/dist-packages/owlready2/pellet/xml-apis-1.4.01.jar:/usr/local/lib/python3.7/dist-packages/owlready2/pellet/commons-codec-1.6.jar pellet.Pellet realize --loader Jena --input-format N-Triples --ignore-imports /tmp/tmp94iuq53a\n"
          ]
        },
        {
          "output_type": "stream",
          "name": "stdout",
          "text": [
            "[onto.Class_2]\n"
          ]
        },
        {
          "output_type": "stream",
          "name": "stderr",
          "text": [
            "* Owlready2 * Pellet took 2.3605241775512695 seconds\n",
            "* Owlready * Reparenting onto.inst0: {owl.Thing} => {onto.Class_2}\n",
            "* Owlready * (NB: only changes on entities loaded in Python are shown, other changes are done but not listed)\n"
          ]
        }
      ]
    }
  ]
}